{
 "cells": [
  {
   "cell_type": "code",
   "execution_count": 2,
   "metadata": {},
   "outputs": [],
   "source": [
    "import numpy as np\n",
    "import random as rndm\n",
    "from random import random as rnd\n",
    "from matplotlib import pyplot as plt\n",
    "import pandas as pd\n",
    "from scipy import stats\n",
    "import seaborn as sns\n",
    "from math import pi\n",
    "from math import exp\n",
    "import collections\n",
    "%matplotlib inline"
   ]
  },
  {
   "cell_type": "code",
   "execution_count": 3,
   "metadata": {},
   "outputs": [],
   "source": [
    "#Initialising transition energy\n",
    "#Function to calculate epsilon for given temperatures\n",
    "\n",
    "E = 1e-22\n",
    "def epsilon(Tc, Th):\n",
    "    return (np.tanh(E/(1.38064852e-23 * Tc)) - np.tanh(E/(1.38064852e-23 * Th)))/(1 - (np.tanh(E/(1.38064852e-23 * Th)))*(np.tanh(E/(1.38064852e-23 * Tc))))"
   ]
  },
  {
   "cell_type": "code",
   "execution_count": 4,
   "metadata": {},
   "outputs": [
    {
     "data": {
      "text/plain": [
       "0.05787902283909685"
      ]
     },
     "execution_count": 4,
     "metadata": {},
     "output_type": "execute_result"
    }
   ],
   "source": [
    "#Function to calculate information entropy of a string\n",
    "\n",
    "def entropy(str):\n",
    "    str = list(str)\n",
    "    length = len(str)\n",
    "    ones1 = 0\n",
    "    for i in range(length):\n",
    "        if str[i] == '1':\n",
    "            ones1 = ones1 + 1\n",
    "    p11 = ones1/length\n",
    "    p10 = 1 - p11\n",
    "    if p11 == 0 or p10 == 0:\n",
    "        return 0\n",
    "    ent1 = -p10*(np.log2(p10)) - p11*(np.log2(p11))\n",
    "    return ent1\n",
    "epsilon(100, 500)"
   ]
  },
  {
   "cell_type": "code",
   "execution_count": 7,
   "metadata": {},
   "outputs": [
    {
     "data": {
      "text/plain": [
       "array([['0', '0', '0', ..., '0', '0', '0'],\n",
       "       ['1', '0', '0', ..., '0', '0', '0'],\n",
       "       ['1', '1', '0', ..., '0', '0', '0'],\n",
       "       ...,\n",
       "       ['1', '1', '1', ..., '1', '0', '0'],\n",
       "       ['1', '1', '1', ..., '1', '1', '0'],\n",
       "       ['1', '1', '1', ..., '1', '1', '1']], dtype='<U1')"
      ]
     },
     "execution_count": 7,
     "metadata": {},
     "output_type": "execute_result"
    }
   ],
   "source": [
    "x = []\n",
    "for i in range(101):\n",
    "    str = ['0' for j in range(100)]\n",
    "    for j in range(i):\n",
    "        str[j] = '1'\n",
    "    x.append(str)\n",
    "np.array(x)"
   ]
  },
  {
   "cell_type": "code",
   "execution_count": 8,
   "metadata": {},
   "outputs": [
    {
     "data": {
      "text/plain": [
       "(101, 101)"
      ]
     },
     "execution_count": 8,
     "metadata": {},
     "output_type": "execute_result"
    }
   ],
   "source": [
    "Y = [entropy(x[i]) for i in range(len(x))]\n",
    "ind = np.linspace(0, 1, 101)\n",
    "len(Y), ind.size"
   ]
  },
  {
   "cell_type": "code",
   "execution_count": null,
   "metadata": {},
   "outputs": [],
   "source": [
    "#Function to calculate heat transfer from cold reservoir to hot reservoir, and entropy difference between input and output strings\n",
    "#input -> \n",
    "# delta-> determines the proportion of 0s and 1s in the input string\n",
    "# ns -> length of input string\n",
    "# nr -> number of iterations\n",
    "\n",
    "def cal_heat(delta, ns, nr):\n",
    "    Tc = 100\n",
    "    Th = 500\n",
    "    E = 1e-22\n",
    "    \n",
    "    beta_h = 1.38064852e-23 * Th\n",
    "    beta_c = 1.38064852e-23 * Tc\n",
    "    \n",
    "    hot_d = 1/(1 + np.exp(-1*E/beta_h))\n",
    "    hot_u = 1 - hot_d\n",
    "    \n",
    "    cold_d = 1/(1 + np.exp(-1*E/beta_c))\n",
    "    cold_u = 1 - cold_d\n",
    "    \n",
    "    p0 = (1 + delta)/2\n",
    "    p1 = (1 - delta)/2\n",
    "    ones = int(p1*ns)\n",
    "    \n",
    "    heat = []\n",
    "    ent = []\n",
    "\n",
    "    for itr in range(nr):\n",
    "        \n",
    "        str = ['0' for l in range(ns)]\n",
    "        onesloc = rndm.sample(range(ns), ones)\n",
    "        for l in range(len(onesloc)):\n",
    "            str[onesloc[l]] = '1'\n",
    "            \n",
    "        Q = 0\n",
    "        \n",
    "        str1 = ''.join(str)\n",
    "        en1 = entropy(str1)\n",
    "#         print(str1)\n",
    "#         print(en1)\n",
    "        \n",
    "        state = 'd'\n",
    "        for i in range(len(str)):\n",
    "            if rnd() < hot_u:\n",
    "                state = 'u'\n",
    "            else:\n",
    "                state = 'd'\n",
    "            if state == 'd' and str[i] == '0':\n",
    "                if rnd() < cold_u:\n",
    "                    state = 'u'\n",
    "                    str[i] = '1'\n",
    "                    Q = Q + E\n",
    "            elif state == 'u' and str[i] == '1':\n",
    "                if rnd() < cold_d:\n",
    "                    state = 'd'\n",
    "                    str[i] = '0'\n",
    "                    Q = Q - E\n",
    "                    \n",
    "        str2 = ''.join(str)\n",
    "        en2 = entropy(str2)\n",
    "#         print(str2)\n",
    "#         print(en2)\n",
    "        \n",
    "        heat.append(Q)\n",
    "        ent.append(en2 - en1)\n",
    "        \n",
    "    return heat, ent"
   ]
  },
  {
   "cell_type": "code",
   "execution_count": 20,
   "metadata": {},
   "outputs": [],
   "source": [
    "x0, e0 = cal_heat(0, 6160, 10000)\n",
    "x95, e95 = cal_heat(0.95, 6160, 1000)\n",
    "x85, e85 = cal_heat(0.85, 6160, 1000)\n",
    "x75, e75 = cal_heat(0.75, 6160, 1000)\n",
    "x65, e65 = cal_heat(0.65, 6160, 1000)\n",
    "x55, e55 = cal_heat(0.55, 6160, 1000)\n",
    "x45, e45 = cal_heat(0.45, 6160, 1000)\n",
    "x35, e35 = cal_heat(0.35, 6160, 1000)\n",
    "x25, e25 = cal_heat(0.25, 6160, 1000)\n",
    "x15, e15 = cal_heat(0.15, 6160, 1000)\n",
    "x100, e100 = cal_heat(1, 6160, 1000)\n",
    "x_15, e_15 = cal_heat(-0.15, 6160, 1000)\n",
    "x05, e05 = cal_heat(0.05, 6160, 1000)\n",
    "x10, e10 = cal_heat(0.1, 6160, 1000)\n",
    "# cal_heat(0, 600, 1)"
   ]
  },
  {
   "cell_type": "code",
   "execution_count": 21,
   "metadata": {},
   "outputs": [],
   "source": [
    "x0_freq = {}\n",
    "for i in range(len(x0)):\n",
    "    if x0[i] in x0_freq:\n",
    "        x0_freq[x0[i]] += 1\n",
    "    else:\n",
    "        x0_freq[x0[i]] = 1\n",
    "x0_f = collections.OrderedDict(sorted(x0_freq.items()))\n"
   ]
  },
  {
   "cell_type": "code",
   "execution_count": 22,
   "metadata": {},
   "outputs": [],
   "source": [
    "#Function to calculate Normal distribution for given mean, standard deviation and input range\n",
    "\n",
    "def norm(x, mu, std):\n",
    "    y = []\n",
    "    for i in range(x.size):\n",
    "#         print(x[i])\n",
    "        val = 1.0 / (std * (2.0 * pi)**(1/2)) * exp(-1.0 * (x[i] - mu)**2 / (2.0 * (std**2)))\n",
    "        y.append(val)\n",
    "        \n",
    "    y = np.array(y)\n",
    "    return y"
   ]
  },
  {
   "cell_type": "code",
   "execution_count": 23,
   "metadata": {},
   "outputs": [
    {
     "data": {
      "text/plain": [
       "<matplotlib.axes._subplots.AxesSubplot at 0x7ffce2e0ba90>"
      ]
     },
     "execution_count": 23,
     "metadata": {},
     "output_type": "execute_result"
    },
    {
     "data": {
      "image/png": "[encoded data removed]",
      "text/plain": [
       "<Figure size 432x288 with 1 Axes>"
      ]
     },
     "metadata": {
      "needs_background": "light"
     },
     "output_type": "display_data"
    }
   ],
   "source": [
    "#Visualising variation between expected and observed heat-transfers frequencies\n",
    "\n",
    "X = list(set(x0))\n",
    "X.sort()\n",
    "X = np.array(X)\n",
    "xy = []\n",
    "yy = []\n",
    "yy = norm(X, np.mean(x0), np.std(x0))\n",
    "xy = [x0_freq[i] for i in x0_f.keys()]\n",
    "xy = np.array(xy)\n",
    "xy = xy*(1.16e20 / 120)\n",
    "Y = xy - yy\n",
    "sns.lineplot(x = X, y = Y)"
   ]
  },
  {
   "cell_type": "code",
   "execution_count": null,
   "metadata": {},
   "outputs": [],
   "source": []
  },
  {
   "cell_type": "markdown",
   "metadata": {},
   "source": [
    "\n"
   ]
  },
  {
   "cell_type": "code",
   "execution_count": 24,
   "metadata": {},
   "outputs": [
    {
     "data": {
      "text/plain": [
       "<matplotlib.axes._subplots.AxesSubplot at 0x7ffce2f40b70>"
      ]
     },
     "execution_count": 24,
     "metadata": {},
     "output_type": "execute_result"
    },
    {
     "data": {
      "image/png": "[encoded data removed]",
      "text/plain": [
       "<Figure size 432x288 with 1 Axes>"
      ]
     },
     "metadata": {
      "needs_background": "light"
     },
     "output_type": "display_data"
    }
   ],
   "source": [
    "#Visualising heat-transfers\n",
    "\n",
    "fig, ax = plt.subplots() \n",
    "sns.distplot(x0) \n",
    "sns.lineplot(x = X, y = yy)\n",
    "sns.distplot(x15) \n",
    "sns.distplot(x25) \n",
    "sns.distplot(x35) \n",
    "sns.distplot(x45) \n",
    "sns.distplot(x55) \n",
    "sns.distplot(x65) \n",
    "# sns.distplot(x75) \n",
    "# sns.distplot(x85) \n",
    "# sns.distplot(x95) \n",
    "# sns.distplot(x100) \n",
    "# sns.distplot(x_15)"
   ]
  },
  {
   "cell_type": "code",
   "execution_count": 26,
   "metadata": {},
   "outputs": [
    {
     "data": {
      "text/plain": [
       "<matplotlib.axes._subplots.AxesSubplot at 0x7ffce2f40a90>"
      ]
     },
     "execution_count": 26,
     "metadata": {},
     "output_type": "execute_result"
    },
    {
     "data": {
      "image/png": "[encoded data removed]",
      "text/plain": [
       "<Figure size 432x288 with 1 Axes>"
      ]
     },
     "metadata": {
      "needs_background": "light"
     },
     "output_type": "display_data"
    }
   ],
   "source": [
    "# sns.distplot(e0) \n",
    "# sns.lineplot(x = X, y = yy)\n",
    "# sns.distplot(e15) \n",
    "# sns.distplot(e25) \n",
    "# sns.distplot(e35) \n",
    "# sns.distplot(e45) \n",
    "# sns.distplot(e55) \n",
    "# sns.distplot(e65) \n",
    "# sns.distplot(e75) \n",
    "sns.distplot(e85) \n",
    "# sns.distplot(e95) \n",
    "# sns.distplot(e100) \n",
    "# sns.distplot(e_15)"
   ]
  },
  {
   "cell_type": "code",
   "execution_count": 32,
   "metadata": {},
   "outputs": [
    {
     "data": {
      "text/plain": [
       "(array([1.35240470e-02, 5.87490707e-04, 4.03861596e-03, 1.04936417e-02,\n",
       "        3.12755754e-02, 6.42913972e-02, 1.09664141e-01, 1.69720937e-01,\n",
       "        2.46272895e-01, 3.44063649e-01, 4.71424494e-01, 6.50721234e-01,\n",
       "        7.98755606e-01]),\n",
       " array([-2.760350e-20,  3.229000e-21,  1.063310e-20,  1.880990e-20,\n",
       "         3.386220e-20,  4.963410e-20,  6.490770e-20,  8.036800e-20,\n",
       "         9.575620e-20,  1.110958e-19,  1.264553e-19,  1.418375e-19,\n",
       "         1.492668e-19]))"
      ]
     },
     "execution_count": 32,
     "metadata": {},
     "output_type": "execute_result"
    }
   ],
   "source": [
    "#Calculating means, standard-deviations of heat and entropies\n",
    "\n",
    "mean = [np.mean(x_15), np.mean(x05), np.mean(x10), np.mean(x15), np.mean(x25), \n",
    "       np.mean(x35), np.mean(x45), np.mean(x55), \n",
    "       np.mean(x65), np.mean(x75), np.mean(x85), \n",
    "       np.mean(x95), np.mean(x100)]\n",
    "std = [np.std(x_15), np.std(x05), np.std(x10), np.std(x15), np.std(x25), \n",
    "       np.std(x35), np.std(x45), np.std(x55), \n",
    "       np.std(x65), np.std(x75), np.std(x85), \n",
    "       np.std(x95), np.std(x100)]\n",
    "e_mean = [np.mean(e_15), np.mean(e05), np.mean(e10), np.mean(e15), np.mean(e25), \n",
    "       np.mean(e35), np.mean(e45), np.mean(e55), \n",
    "       np.mean(e65), np.mean(e75), np.mean(e85), \n",
    "       np.mean(e95), np.mean(e100)]\n",
    "ref = [-0.15, 0.05, 0.1, 0.15, 0.25, 0.35, 0.45, 0.55, 0.65, 0.75, 0.85, 0.95, 1]\n",
    "\n",
    "mean = np.array(mean)\n",
    "std = np.array(std)\n",
    "ref = np.array(ref)\n",
    "e_mean = np.array(e_mean)\n",
    "# ref = (ref - epsilon(100, 500))/2\n",
    "std = std/E*6160\n",
    "e_mean, mean"
   ]
  },
  {
   "cell_type": "code",
   "execution_count": 42,
   "metadata": {},
   "outputs": [
    {
     "data": {
      "text/plain": [
       "(array([1.61205588e-02, 2.83756162e-04, 3.03841782e-03, 8.72429628e-03,\n",
       "        2.80903416e-02, 5.96225861e-02, 1.03558625e-01, 1.62161155e-01,\n",
       "        2.37265627e-01, 3.33613469e-01, 4.59529529e-01, 6.37379349e-01,\n",
       "        7.84714887e-01]),\n",
       " array([-0.15,  0.05,  0.1 ,  0.15,  0.25,  0.35,  0.45,  0.55,  0.65,\n",
       "         0.75,  0.85,  0.95,  1.  ]))"
      ]
     },
     "execution_count": 42,
     "metadata": {},
     "output_type": "execute_result"
    },
    {
     "data": {
      "image/png": "[encoded data removed]",
      "text/plain": [
       "<Figure size 432x288 with 1 Axes>"
      ]
     },
     "metadata": {
      "needs_background": "light"
     },
     "output_type": "display_data"
    }
   ],
   "source": [
    "#Plotting relationship between delta and total entropy(information and thermodynamic)\n",
    "\n",
    "Tc = 100\n",
    "Th = 500\n",
    "E = 1e-22\n",
    "\n",
    "beta_h = 1.38064852e-23 * Th\n",
    "beta_c = 1.38064852e-23 * Tc\n",
    "div = []\n",
    "for i in range(mean.size):\n",
    "    div.append(mean[i]/e_mean[i])\n",
    "div = np.array(div)\n",
    "lhs = -1*div*((1/beta_h) - (1/beta_c))/6160\n",
    "sns.scatterplot(x = ref, y = mean*(1/beta_h - 1/beta_c)/6160 + e_mean)\n",
    "(mean*(1/beta_h - 1/beta_c)/6160 + e_mean), ref"
   ]
  },
  {
   "cell_type": "code",
   "execution_count": 43,
   "metadata": {},
   "outputs": [
    {
     "data": {
      "text/plain": [
       "(13, 13)"
      ]
     },
     "execution_count": 43,
     "metadata": {},
     "output_type": "execute_result"
    }
   ],
   "source": [
    "ref.size, std.size"
   ]
  },
  {
   "cell_type": "code",
   "execution_count": 44,
   "metadata": {},
   "outputs": [
    {
     "data": {
      "text/plain": [
       "<matplotlib.axes._subplots.AxesSubplot at 0x7ffce457d7b8>"
      ]
     },
     "execution_count": 44,
     "metadata": {},
     "output_type": "execute_result"
    },
    {
     "data": {
      "image/png": "[encoded data removed]",
      "text/plain": [
       "<Figure size 432x288 with 1 Axes>"
      ]
     },
     "metadata": {
      "needs_background": "light"
     },
     "output_type": "display_data"
    }
   ],
   "source": [
    "\n",
    "sns.regplot(x = ref, y = std)"
   ]
  },
  {
   "cell_type": "code",
   "execution_count": 45,
   "metadata": {},
   "outputs": [],
   "source": [
    "y50_100 = cal_heat(0.5, 100, 1000)[0]\n",
    "y50_500 = cal_heat(0.5, 500, 1000)[0]\n",
    "y50_1000 = cal_heat(0.5, 1000, 1000)[0]\n",
    "y50_1500 = cal_heat(0.5, 1500, 1000)[0]\n",
    "y50_2000 = cal_heat(0.5, 2000, 1000)[0]\n",
    "y50_2500 = cal_heat(0.5, 2500, 1000)[0]\n",
    "# y50_10 = cal_heat(0.5, 10000, 10000)"
   ]
  },
  {
   "cell_type": "code",
   "execution_count": 46,
   "metadata": {},
   "outputs": [],
   "source": [
    "meany = [np.mean(y50_100), np.mean(y50_500), np.mean(y50_1000), \n",
    "        np.mean(y50_1500), np.mean(y50_2000), np.mean(y50_2500)]\n",
    "refy = [1, 5, 10, 15, 20, 25]\n",
    "meany = np.array(meany)\n",
    "meany = meany/E\n",
    "refy = np.array(refy)"
   ]
  },
  {
   "cell_type": "code",
   "execution_count": 47,
   "metadata": {},
   "outputs": [
    {
     "data": {
      "text/plain": [
       "<matplotlib.axes._subplots.AxesSubplot at 0x7ffce4648080>"
      ]
     },
     "execution_count": 47,
     "metadata": {},
     "output_type": "execute_result"
    },
    {
     "data": {
      "image/png": "[encoded data removed]",
      "text/plain": [
       "<Figure size 432x288 with 1 Axes>"
      ]
     },
     "metadata": {
      "needs_background": "light"
     },
     "output_type": "display_data"
    }
   ],
   "source": [
    "sns.scatterplot(x = refy, y = meany)"
   ]
  },
  {
   "cell_type": "code",
   "execution_count": null,
   "metadata": {},
   "outputs": [],
   "source": []
  }
 ],
 "metadata": {
  "kernelspec": {
   "display_name": "Python 3",
   "language": "python",
   "name": "python3"
  },
  "language_info": {
   "codemirror_mode": {
    "name": "ipython",
    "version": 3
   },
   "file_extension": ".py",
   "mimetype": "text/x-python",
   "name": "python",
   "nbconvert_exporter": "python",
   "pygments_lexer": "ipython3",
   "version": "3.7.3"
  }
 },
 "nbformat": 4,
 "nbformat_minor": 2
}
