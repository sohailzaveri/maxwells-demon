{
 "cells": [
  {
   "cell_type": "code",
   "execution_count": 1,
   "metadata": {},
   "outputs": [],
   "source": [
    "import numpy as np\n",
    "import random as rndm\n",
    "from random import random as rnd\n",
    "from matplotlib import pyplot as plt\n",
    "import pandas as pd\n",
    "import seaborn as sns\n",
    "%matplotlib inline"
   ]
  },
  {
   "cell_type": "code",
   "execution_count": 2,
   "metadata": {},
   "outputs": [
    {
     "data": {
      "text/plain": [
       "100"
      ]
     },
     "execution_count": 2,
     "metadata": {},
     "output_type": "execute_result"
    }
   ],
   "source": [
    "#Generate the input string\n",
    "delta = -1\n",
    "p0 = (1 + delta)/2\n",
    "p1 = (1 - delta)/2\n",
    "length = 100\n",
    "ones = int(p1*length)\n",
    "str = [0 for i in range(length)]\n",
    "onesloc = rndm.sample(range(length), ones)\n",
    "for i in range(len(onesloc)):\n",
    "    str[onesloc[i]] = 1\n",
    "# str = ''.join(str)\n",
    "len(str)"
   ]
  },
  {
   "cell_type": "code",
   "execution_count": 3,
   "metadata": {},
   "outputs": [
    {
     "data": {
      "text/plain": [
       "(0.5719273188360384,\n",
       " 0.4280726811639616,\n",
       " 0.5659412467880124,\n",
       " 0.4340587532119876)"
      ]
     },
     "execution_count": 3,
     "metadata": {},
     "output_type": "execute_result"
    }
   ],
   "source": [
    "#Initialize the System Variables -  Temperatures, Transition Energy and calculate the necessary parameters\n",
    "Th = 273\n",
    "Tc = 250\n",
    "E = 10e-22\n",
    "Q = 0 #heat transferred\n",
    "state = 'd'\n",
    "beta_h = 1.38064852e-23 * Th\n",
    "beta_c = 1.38064852e-23 * Tc\n",
    "hot_d = 1/(1 + np.exp(-1*E/beta_h))\n",
    "hot_u = 1 - hot_d\n",
    "cold_d = 1/(1 + np.exp(-1*E/beta_c))\n",
    "cold_u = 1 - cold_d\n",
    "cold_d, cold_u, hot_d, hot_u"
   ]
  },
  {
   "cell_type": "code",
   "execution_count": 4,
   "metadata": {},
   "outputs": [
    {
     "data": {
      "text/plain": [
       "-2.4806999999987743e-20"
      ]
     },
     "execution_count": 4,
     "metadata": {},
     "output_type": "execute_result"
    }
   ],
   "source": [
    "Q = 0\n",
    "for itr in range(1000):\n",
    "    \n",
    "    str = ['0' for l in range(length)]\n",
    "    onesloc = rndm.sample(range(length), ones)\n",
    "    for l in range(len(onesloc)):\n",
    "        str[onesloc[l]] = '1'\n",
    "#     print(''.join(str), '--')\n",
    "    \n",
    "    state = 'd'\n",
    "    for i in range(len(str)):\n",
    "        if rnd() < hot_u:\n",
    "            state = 'u'\n",
    "        else: \n",
    "            state = 'd'\n",
    "      \n",
    "        if state == 'd' and str[i] == '0':\n",
    "            if rnd() < cold_u:\n",
    "                state = 'u'\n",
    "                str[i] = '1'\n",
    "                Q = Q + E\n",
    "        elif state == 'u' and str[i] == '1':\n",
    "            if rnd() < cold_d:\n",
    "                state = 'd'\n",
    "                str[i] = '0'\n",
    "                Q = Q - E\n",
    "#     print(''.join(str))\n",
    "Q/1000"
   ]
  },
  {
   "cell_type": "code",
   "execution_count": 5,
   "metadata": {},
   "outputs": [],
   "source": [
    "\n",
    "\n",
    "def heat_transfer(delta, ns, nr):\n",
    "    p0 = (1 + delta)/2\n",
    "    p1 = (1 - delta)/2\n",
    "    ones = int(p1*ns)\n",
    "    Q = 0\n",
    "    for itr in range(nr):\n",
    "        str = ['0' for l in range(ns)]\n",
    "        onesloc = rndm.sample(range(ns), ones)\n",
    "        for l in range(len(onesloc)):\n",
    "            str[onesloc[l]] = '1'\n",
    "        str1 = str\n",
    "        state = 'd'\n",
    "        for i in range(len(str)):\n",
    "            if rnd() < hot_u:\n",
    "                state = 'u'\n",
    "            else:\n",
    "                state = 'd'\n",
    "            \n",
    "            if state == 'd' and str[i] == '0':\n",
    "                if rnd() < cold_u:\n",
    "                    state = 'u'\n",
    "                    str[i] = '1'\n",
    "                    Q = Q + E\n",
    "            elif state == 'u' and str[i] == '1':\n",
    "                if rnd() < cold_d:\n",
    "                    state = 'd'\n",
    "                    str[i] = '0'\n",
    "                    Q = Q - E\n",
    "#                     print('hello')\n",
    "        str2 = str\n",
    "        \n",
    "    return Q/nr"
   ]
  },
  {
   "cell_type": "code",
   "execution_count": 6,
   "metadata": {},
   "outputs": [],
   "source": [
    "delta = np.linspace(-1, 1, 100)\n",
    "y_delta = [heat_transfer(delta[i], 1000, 1) for i in range(delta.size)]"
   ]
  },
  {
   "cell_type": "code",
   "execution_count": 7,
   "metadata": {},
   "outputs": [
    {
     "data": {
      "text/plain": [
       "<matplotlib.axes._subplots.AxesSubplot at 0x17dcff060b8>"
      ]
     },
     "execution_count": 7,
     "metadata": {},
     "output_type": "execute_result"
    },
    {
     "data": {
      "image/png": "[encoded data removed]",
      "text/plain": [
       "<Figure size 432x288 with 1 Axes>"
      ]
     },
     "metadata": {
      "needs_background": "light"
     },
     "output_type": "display_data"
    }
   ],
   "source": [
    "sns.lineplot(x = delta, y = y_delta)"
   ]
  },
  {
   "cell_type": "code",
   "execution_count": 8,
   "metadata": {},
   "outputs": [],
   "source": [
    "strlen = np.linspace(1, 100, 100)\n",
    "y_len = [heat_transfer(0.75, int(strlen[i]), 100) for i in range(delta.size)]"
   ]
  },
  {
   "cell_type": "code",
   "execution_count": 9,
   "metadata": {},
   "outputs": [
    {
     "data": {
      "text/plain": [
       "<matplotlib.axes._subplots.AxesSubplot at 0x17dd06aa400>"
      ]
     },
     "execution_count": 9,
     "metadata": {},
     "output_type": "execute_result"
    },
    {
     "data": {
      "image/png": "[encoded data removed]",
      "text/plain": [
       "<Figure size 432x288 with 1 Axes>"
      ]
     },
     "metadata": {
      "needs_background": "light"
     },
     "output_type": "display_data"
    }
   ],
   "source": [
    "sns.lineplot(x = strlen, y = y_len)"
   ]
  },
  {
   "cell_type": "code",
   "execution_count": 10,
   "metadata": {},
   "outputs": [],
   "source": [
    "def entropy(str):\n",
    "    str = list(str)\n",
    "    length = len(str)\n",
    "    ones1 = 0\n",
    "    for i in range(length):\n",
    "        if str[i] == '1':\n",
    "            ones1 = ones1 + 1\n",
    "    p11 = ones1/length\n",
    "    p10 = 1 - p11\n",
    "    if p11 == 0 or p10 == 0:\n",
    "        return 0\n",
    "    ent1 = -p10*(np.log(p10)) - p11*(np.log(p11))\n",
    "    return ent1\n",
    "def entropy_dif(str1, str2):\n",
    "    return entropy(str2) - entropy(str1)"
   ]
  },
  {
   "cell_type": "code",
   "execution_count": 11,
   "metadata": {},
   "outputs": [],
   "source": [
    "E = 10e-22\n",
    "def epsilon(Tc, Th):\n",
    "    return (np.tanh(E/(1.38064852e-23 * Tc)) - np.tanh(E/(1.38064852e-23 * Th)))/(1 - (np.tanh(E/(1.38064852e-23 * Th)))*(np.tanh(E/(1.38064852e-23 * Tc))))"
   ]
  },
  {
   "cell_type": "code",
   "execution_count": 12,
   "metadata": {},
   "outputs": [
    {
     "data": {
      "text/plain": [
       "<matplotlib.axes._subplots.AxesSubplot at 0x17dd071cf60>"
      ]
     },
     "execution_count": 12,
     "metadata": {},
     "output_type": "execute_result"
    },
    {
     "data": {
      "image/png": "[encoded data removed]",
      "text/plain": [
       "<Figure size 432x288 with 1 Axes>"
      ]
     },
     "metadata": {
      "needs_background": "light"
     },
     "output_type": "display_data"
    }
   ],
   "source": [
    "x = np.linspace(100, 1000, 40)\n",
    "y = [epsilon(100, x[i]) for i in range(40)]\n",
    "sns.scatterplot(x = x, y = y)"
   ]
  },
  {
   "cell_type": "code",
   "execution_count": 13,
   "metadata": {},
   "outputs": [],
   "source": [
    "def cal_entropy(delta, t_diff, ns, nr):\n",
    "    Tc = 100\n",
    "    Th = t_diff\n",
    "    E = 10e-22\n",
    "    beta_h = 1.38064852e-23 * Th\n",
    "    beta_c = 1.38064852e-23 * Tc\n",
    "    hot_d = 1/(1 + np.exp(-1*E/beta_h))\n",
    "    hot_u = 1 - hot_d\n",
    "    cold_d = 1/(1 + np.exp(-1*E/beta_c))\n",
    "    cold_u = 1 - cold_d\n",
    "#     print(hot_d, hot_u, cold_d, cold_u)\n",
    "    p0 = (1 + delta)/2\n",
    "    p1 = (1 - delta)/2\n",
    "    ones = int(p1*ns)\n",
    "    ent_diff = 0\n",
    "    for itr in range(nr):\n",
    "        str = ['0' for l in range(ns)]\n",
    "        onesloc = rndm.sample(range(ns), ones)\n",
    "        for l in range(len(onesloc)):\n",
    "            str[onesloc[l]] = '1'\n",
    "        str1 = ''.join(str)\n",
    "#         print(entropy(str1))\n",
    "#         print(''.join(str))\n",
    "        state = 'd'\n",
    "        for i in range(len(str)):\n",
    "#             print(i)\n",
    "            if rnd() < hot_u:\n",
    "                state = 'u'\n",
    "#                 print('hot_transition')\n",
    "            else:\n",
    "                state = 'd'\n",
    "#                 print('no_transition')\n",
    "            if state == 'd' and str[i] == '0':\n",
    "                if rnd() < cold_u:\n",
    "                    state = 'u'\n",
    "                    str[i] = '1'\n",
    "#                     Q = Q + E\n",
    "            elif state == 'u' and str[i] == '1':\n",
    "                if rnd() < cold_d:\n",
    "                    state = 'd'\n",
    "                    str[i] = '0'\n",
    "#                     Q = Q - E\n",
    "        str2 = ''.join(str)\n",
    "#         print(str1)\n",
    "#         print(str2)\n",
    "#         print(entropy(str1), entropy(str2))\n",
    "        ent_diff = ent_diff + entropy_dif(str1, str2)\n",
    "    return ent_diff/nr"
   ]
  },
  {
   "cell_type": "code",
   "execution_count": 14,
   "metadata": {},
   "outputs": [
    {
     "data": {
      "text/plain": [
       "0.6115893724594162"
      ]
     },
     "execution_count": 14,
     "metadata": {},
     "output_type": "execute_result"
    }
   ],
   "source": [
    "cal_entropy(-1, 400, 100, 100)"
   ]
  },
  {
   "cell_type": "code",
   "execution_count": 15,
   "metadata": {},
   "outputs": [],
   "source": [
    "t_400 = rndm.sample(range(100, 200), 100)\n",
    "t_1000 = rndm.sample(range(200, 1000), 100)\n",
    "e1 = [epsilon(100, t_400[i]) for i in range(len(t_400))]\n",
    "e2 = [epsilon(100, t_1000[i]) for i in range(len(t_1000))]\n",
    "e1 = np.array(e1)\n",
    "e2 = np.array(e2)\n",
    "eps = np.concatenate([e1, e2], axis = 0)\n",
    "t_400,t_1000 = np.array(t_400), np.array(t_1000)\n",
    "temp = np.concatenate([t_400, t_1000], axis = 0)\n",
    "delta = [(-1 + 2*rnd()) for i in range(200)]"
   ]
  },
  {
   "cell_type": "code",
   "execution_count": 16,
   "metadata": {},
   "outputs": [],
   "source": [
    "entropy_diff = [cal_entropy(delta[i], temp[i], 100, 100) for i in range(temp.size)]"
   ]
  },
  {
   "cell_type": "code",
   "execution_count": 17,
   "metadata": {},
   "outputs": [],
   "source": [
    "df = pd.DataFrame({'Epsilon':eps, 'Delta': delta, 'EntropyD': entropy_diff})\n",
    "# df = df.drop"
   ]
  },
  {
   "cell_type": "code",
   "execution_count": 18,
   "metadata": {},
   "outputs": [
    {
     "data": {
      "text/plain": [
       "False"
      ]
     },
     "execution_count": 18,
     "metadata": {},
     "output_type": "execute_result"
    }
   ],
   "source": [
    "df.isnull().any().any()"
   ]
  },
  {
   "cell_type": "code",
   "execution_count": 19,
   "metadata": {},
   "outputs": [
    {
     "data": {
      "text/plain": [
       "<matplotlib.axes._subplots.AxesSubplot at 0x17dd0776978>"
      ]
     },
     "execution_count": 19,
     "metadata": {},
     "output_type": "execute_result"
    },
    {
     "data": {
      "image/png": "[encoded data removed]",
      "text/plain": [
       "<Figure size 432x288 with 1 Axes>"
      ]
     },
     "metadata": {
      "needs_background": "light"
     },
     "output_type": "display_data"
    }
   ],
   "source": [
    "fig, ax = plt.subplots()\n",
    "sns.scatterplot(x = 'Delta', y = 'Epsilon', hue = 'EntropyD', data = df)\n",
    "sns.lineplot(x = 'Epsilon', y = 'Epsilon', data = df)\n",
    "sns.lineplot(x = 'Epsilon', y = 'Epsilon', data = df )"
   ]
  },
  {
   "cell_type": "code",
   "execution_count": null,
   "metadata": {},
   "outputs": [],
   "source": []
  }
 ],
 "metadata": {
  "kernelspec": {
   "display_name": "Python 3",
   "language": "python",
   "name": "python3"
  },
  "language_info": {
   "codemirror_mode": {
    "name": "ipython",
    "version": 3
   },
   "file_extension": ".py",
   "mimetype": "text/x-python",
   "name": "python",
   "nbconvert_exporter": "python",
   "pygments_lexer": "ipython3",
   "version": "3.7.3"
  }
 },
 "nbformat": 4,
 "nbformat_minor": 2
}
